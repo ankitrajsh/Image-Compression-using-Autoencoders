{
 "cells": [
  {
   "cell_type": "markdown",
   "id": "04a2291b",
   "metadata": {
    "papermill": {
     "duration": 0.007569,
     "end_time": "2022-07-09T12:46:11.757733",
     "exception": false,
     "start_time": "2022-07-09T12:46:11.750164",
     "status": "completed"
    },
    "tags": []
   },
   "source": [
    "### Autoencoder\n",
    "An autoencoder is an unsupervised learning technique for neural networks that learns efficient data representations (encoding) by training the network to ignore signal “noise.” Autoencoders can be used for image denoising, image compression, and, in some cases, even generation of image data.\n",
    "\n",
    "### Flow of Autoencoder\n",
    "Input Image -> Encoder -> Compressed Representation -> Decoder -> Reconstruct Input Image"
   ]
  },
  {
   "cell_type": "markdown",
   "id": "8ba0d412",
   "metadata": {
    "papermill": {
     "duration": 0.005711,
     "end_time": "2022-07-09T12:46:11.769965",
     "exception": false,
     "start_time": "2022-07-09T12:46:11.764254",
     "status": "completed"
    },
    "tags": []
   },
   "source": [
    "### Import Libraries"
   ]
  },
  {
   "cell_type": "code",
   "execution_count": 1,
   "id": "bdda3070",
   "metadata": {
    "execution": {
     "iopub.execute_input": "2022-07-09T12:46:11.784371Z",
     "iopub.status.busy": "2022-07-09T12:46:11.783885Z",
     "iopub.status.idle": "2022-07-09T12:46:22.638266Z",
     "shell.execute_reply": "2022-07-09T12:46:22.636885Z"
    },
    "papermill": {
     "duration": 10.865018,
     "end_time": "2022-07-09T12:46:22.641350",
     "exception": false,
     "start_time": "2022-07-09T12:46:11.776332",
     "status": "completed"
    },
    "tags": []
   },
   "outputs": [],
   "source": [
    "import numpy as np\n",
    "import matplotlib.pyplot as plt\n",
    "from keras import Sequential\n",
    "from keras.layers import Dense, Conv2D, MaxPooling2D, UpSampling2D\n",
    "from keras.datasets import mnist"
   ]
  },
  {
   "cell_type": "markdown",
   "id": "17d53dbe",
   "metadata": {
    "papermill": {
     "duration": 0.005448,
     "end_time": "2022-07-09T12:46:22.652846",
     "exception": false,
     "start_time": "2022-07-09T12:46:22.647398",
     "status": "completed"
    },
    "tags": []
   },
   "source": [
    "### Load the Dataset"
   ]
  },
  {
   "cell_type": "code",
   "execution_count": 2,
   "id": "70ff3038",
   "metadata": {
    "execution": {
     "iopub.execute_input": "2022-07-09T12:46:22.666464Z",
     "iopub.status.busy": "2022-07-09T12:46:22.665757Z",
     "iopub.status.idle": "2022-07-09T12:46:23.141082Z",
     "shell.execute_reply": "2022-07-09T12:46:23.139933Z"
    },
    "papermill": {
     "duration": 0.485708,
     "end_time": "2022-07-09T12:46:23.144429",
     "exception": false,
     "start_time": "2022-07-09T12:46:22.658721",
     "status": "completed"
    },
    "tags": []
   },
   "outputs": [
    {
     "name": "stdout",
     "output_type": "stream",
     "text": [
      "Downloading data from https://storage.googleapis.com/tensorflow/tf-keras-datasets/mnist.npz\n",
      "11493376/11490434 [==============================] - 0s 0us/step\n",
      "11501568/11490434 [==============================] - 0s 0us/step\n"
     ]
    }
   ],
   "source": [
    "(x_train, _), (x_test, _) = mnist.load_data()"
   ]
  },
  {
   "cell_type": "code",
   "execution_count": 3,
   "id": "2af569a9",
   "metadata": {
    "execution": {
     "iopub.execute_input": "2022-07-09T12:46:23.159117Z",
     "iopub.status.busy": "2022-07-09T12:46:23.158288Z",
     "iopub.status.idle": "2022-07-09T12:46:23.260458Z",
     "shell.execute_reply": "2022-07-09T12:46:23.259197Z"
    },
    "papermill": {
     "duration": 0.11241,
     "end_time": "2022-07-09T12:46:23.263213",
     "exception": false,
     "start_time": "2022-07-09T12:46:23.150803",
     "status": "completed"
    },
    "tags": []
   },
   "outputs": [],
   "source": [
    "# normalize the image data\n",
    "x_train = x_train.astype('float32') / 255\n",
    "x_test = x_test.astype('float32') / 255"
   ]
  },
  {
   "cell_type": "code",
   "execution_count": 4,
   "id": "c372e78e",
   "metadata": {
    "execution": {
     "iopub.execute_input": "2022-07-09T12:46:23.276874Z",
     "iopub.status.busy": "2022-07-09T12:46:23.276496Z",
     "iopub.status.idle": "2022-07-09T12:46:23.288124Z",
     "shell.execute_reply": "2022-07-09T12:46:23.286953Z"
    },
    "papermill": {
     "duration": 0.021274,
     "end_time": "2022-07-09T12:46:23.290479",
     "exception": false,
     "start_time": "2022-07-09T12:46:23.269205",
     "status": "completed"
    },
    "tags": []
   },
   "outputs": [
    {
     "data": {
      "text/plain": [
       "(10000, 28, 28, 1)"
      ]
     },
     "execution_count": 4,
     "metadata": {},
     "output_type": "execute_result"
    }
   ],
   "source": [
    "# reshape in the input data for the model\n",
    "x_train = x_train.reshape(len(x_train), 28, 28, 1)\n",
    "x_test = x_test.reshape(len(x_test), 28, 28, 1)\n",
    "x_test.shape"
   ]
  },
  {
   "cell_type": "markdown",
   "id": "87bac923",
   "metadata": {
    "papermill": {
     "duration": 0.005845,
     "end_time": "2022-07-09T12:46:23.302584",
     "exception": false,
     "start_time": "2022-07-09T12:46:23.296739",
     "status": "completed"
    },
    "tags": []
   },
   "source": [
    "### Exploratory Data Analysis"
   ]
  },
  {
   "cell_type": "code",
   "execution_count": 5,
   "id": "e526dbb5",
   "metadata": {
    "execution": {
     "iopub.execute_input": "2022-07-09T12:46:23.316499Z",
     "iopub.status.busy": "2022-07-09T12:46:23.316052Z",
     "iopub.status.idle": "2022-07-09T12:46:23.701479Z",
     "shell.execute_reply": "2022-07-09T12:46:23.700233Z"
    },
    "papermill": {
     "duration": 0.395185,
     "end_time": "2022-07-09T12:46:23.703848",
     "exception": false,
     "start_time": "2022-07-09T12:46:23.308663",
     "status": "completed"
    },
    "tags": []
   },
   "outputs": [
    {
     "data": {
      "image/png": "[encoded data removed]",
      "text/plain": [
       "<Figure size 432x288 with 1 Axes>"
      ]
     },
     "metadata": {
      "needs_background": "light"
     },
     "output_type": "display_data"
    }
   ],
   "source": [
    "# randomly select input image\n",
    "index = np.random.randint(len(x_test))\n",
    "# plot the image\n",
    "plt.imshow(x_test[index].reshape(28,28))\n",
    "plt.gray()"
   ]
  },
  {
   "cell_type": "code",
   "execution_count": 6,
   "id": "9d5e40af",
   "metadata": {
    "execution": {
     "iopub.execute_input": "2022-07-09T12:46:23.720546Z",
     "iopub.status.busy": "2022-07-09T12:46:23.720164Z",
     "iopub.status.idle": "2022-07-09T12:46:23.904165Z",
     "shell.execute_reply": "2022-07-09T12:46:23.902944Z"
    },
    "papermill": {
     "duration": 0.195815,
     "end_time": "2022-07-09T12:46:23.906741",
     "exception": false,
     "start_time": "2022-07-09T12:46:23.710926",
     "status": "completed"
    },
    "tags": []
   },
   "outputs": [
    {
     "data": {
      "image/png": "[encoded data removed]",
      "text/plain": [
       "<Figure size 432x288 with 1 Axes>"
      ]
     },
     "metadata": {
      "needs_background": "light"
     },
     "output_type": "display_data"
    }
   ],
   "source": [
    "# randomly select input image\n",
    "index = np.random.randint(len(x_test))\n",
    "# plot the image\n",
    "plt.imshow(x_test[index].reshape(28,28))\n",
    "plt.gray()"
   ]
  },
  {
   "cell_type": "code",
   "execution_count": 7,
   "id": "a5a9a679",
   "metadata": {
    "execution": {
     "iopub.execute_input": "2022-07-09T12:46:23.921697Z",
     "iopub.status.busy": "2022-07-09T12:46:23.921288Z",
     "iopub.status.idle": "2022-07-09T12:46:24.105544Z",
     "shell.execute_reply": "2022-07-09T12:46:24.103713Z"
    },
    "papermill": {
     "duration": 0.195111,
     "end_time": "2022-07-09T12:46:24.108432",
     "exception": false,
     "start_time": "2022-07-09T12:46:23.913321",
     "status": "completed"
    },
    "tags": []
   },
   "outputs": [
    {
     "data": {
      "image/png": "[encoded data removed]",
      "text/plain": [
       "<Figure size 432x288 with 1 Axes>"
      ]
     },
     "metadata": {
      "needs_background": "light"
     },
     "output_type": "display_data"
    }
   ],
   "source": [
    "# randomly select input image\n",
    "index = np.random.randint(len(x_test))\n",
    "# plot the image\n",
    "plt.imshow(x_test[index].reshape(28,28))\n",
    "plt.gray()"
   ]
  },
  {
   "cell_type": "markdown",
   "id": "d9a8185e",
   "metadata": {
    "papermill": {
     "duration": 0.006436,
     "end_time": "2022-07-09T12:46:24.121965",
     "exception": false,
     "start_time": "2022-07-09T12:46:24.115529",
     "status": "completed"
    },
    "tags": []
   },
   "source": [
    "### Model Creation"
   ]
  },
  {
   "cell_type": "code",
   "execution_count": 8,
   "id": "fdd81ff0",
   "metadata": {
    "execution": {
     "iopub.execute_input": "2022-07-09T12:46:24.137513Z",
     "iopub.status.busy": "2022-07-09T12:46:24.137069Z",
     "iopub.status.idle": "2022-07-09T12:46:24.346372Z",
     "shell.execute_reply": "2022-07-09T12:46:24.344874Z"
    },
    "papermill": {
     "duration": 0.221577,
     "end_time": "2022-07-09T12:46:24.350422",
     "exception": false,
     "start_time": "2022-07-09T12:46:24.128845",
     "status": "completed"
    },
    "tags": []
   },
   "outputs": [
    {
     "name": "stdout",
     "output_type": "stream",
     "text": [
      "Model: \"sequential\"\n",
      "_________________________________________________________________\n",
      "Layer (type)                 Output Shape              Param #   \n",
      "=================================================================\n",
      "conv2d (Conv2D)              (None, 28, 28, 32)        320       \n",
      "_________________________________________________________________\n",
      "max_pooling2d (MaxPooling2D) (None, 14, 14, 32)        0         \n",
      "_________________________________________________________________\n",
      "conv2d_1 (Conv2D)            (None, 14, 14, 16)        4624      \n",
      "_________________________________________________________________\n",
      "max_pooling2d_1 (MaxPooling2 (None, 7, 7, 16)          0         \n",
      "_________________________________________________________________\n",
      "conv2d_2 (Conv2D)            (None, 7, 7, 16)          2320      \n",
      "_________________________________________________________________\n",
      "up_sampling2d (UpSampling2D) (None, 14, 14, 16)        0         \n",
      "_________________________________________________________________\n",
      "conv2d_3 (Conv2D)            (None, 14, 14, 32)        4640      \n",
      "_________________________________________________________________\n",
      "up_sampling2d_1 (UpSampling2 (None, 28, 28, 32)        0         \n",
      "_________________________________________________________________\n",
      "conv2d_4 (Conv2D)            (None, 28, 28, 1)         289       \n",
      "=================================================================\n",
      "Total params: 12,193\n",
      "Trainable params: 12,193\n",
      "Non-trainable params: 0\n",
      "_________________________________________________________________\n"
     ]
    },
    {
     "name": "stderr",
     "output_type": "stream",
     "text": [
      "2022-07-09 12:46:24.202850: I tensorflow/core/common_runtime/process_util.cc:146] Creating new thread pool with default inter op setting: 2. Tune using inter_op_parallelism_threads for best performance.\n"
     ]
    }
   ],
   "source": [
    "model = Sequential([\n",
    "                    # encoder network\n",
    "                    Conv2D(32, 3, activation='relu', padding='same', input_shape=(28, 28, 1)),\n",
    "                    MaxPooling2D(2, padding='same'),\n",
    "                    Conv2D(16, 3, activation='relu', padding='same'),\n",
    "                    MaxPooling2D(2, padding='same'),\n",
    "                    # decoder network\n",
    "                    Conv2D(16, 3, activation='relu', padding='same'),\n",
    "                    UpSampling2D(2),\n",
    "                    Conv2D(32, 3, activation='relu', padding='same'),\n",
    "                    UpSampling2D(2),\n",
    "                    # output layer\n",
    "                    Conv2D(1, 3, activation='sigmoid', padding='same')\n",
    "])\n",
    "\n",
    "model.compile(optimizer='adam', loss='binary_crossentropy')\n",
    "model.summary()"
   ]
  },
  {
   "cell_type": "code",
   "execution_count": 9,
   "id": "21ecc655",
   "metadata": {
    "execution": {
     "iopub.execute_input": "2022-07-09T12:46:24.366928Z",
     "iopub.status.busy": "2022-07-09T12:46:24.366070Z",
     "iopub.status.idle": "2022-07-09T12:55:47.508038Z",
     "shell.execute_reply": "2022-07-09T12:55:47.507030Z"
    },
    "papermill": {
     "duration": 563.498084,
     "end_time": "2022-07-09T12:55:47.855884",
     "exception": false,
     "start_time": "2022-07-09T12:46:24.357800",
     "status": "completed"
    },
    "tags": []
   },
   "outputs": [
    {
     "name": "stderr",
     "output_type": "stream",
     "text": [
      "2022-07-09 12:46:24.775744: I tensorflow/compiler/mlir/mlir_graph_optimization_pass.cc:185] None of the MLIR Optimization Passes are enabled (registered 2)\n"
     ]
    },
    {
     "name": "stdout",
     "output_type": "stream",
     "text": [
      "Epoch 1/20\n",
      "235/235 [==============================] - 28s 113ms/step - loss: 0.1757 - val_loss: 0.0892\n",
      "Epoch 2/20\n",
      "235/235 [==============================] - 26s 111ms/step - loss: 0.0846 - val_loss: 0.0798\n",
      "Epoch 3/20\n",
      "235/235 [==============================] - 25s 107ms/step - loss: 0.0789 - val_loss: 0.0768\n",
      "Epoch 4/20\n",
      "235/235 [==============================] - 26s 109ms/step - loss: 0.0762 - val_loss: 0.0746\n",
      "Epoch 5/20\n",
      "235/235 [==============================] - 26s 110ms/step - loss: 0.0746 - val_loss: 0.0733\n",
      "Epoch 6/20\n",
      "235/235 [==============================] - 26s 109ms/step - loss: 0.0735 - val_loss: 0.0725\n",
      "Epoch 7/20\n",
      "235/235 [==============================] - 25s 106ms/step - loss: 0.0727 - val_loss: 0.0718\n",
      "Epoch 8/20\n",
      "235/235 [==============================] - 26s 110ms/step - loss: 0.0721 - val_loss: 0.0715\n",
      "Epoch 9/20\n",
      "235/235 [==============================] - 26s 110ms/step - loss: 0.0715 - val_loss: 0.0707\n",
      "Epoch 10/20\n",
      "235/235 [==============================] - 26s 111ms/step - loss: 0.0711 - val_loss: 0.0704\n",
      "Epoch 11/20\n",
      "235/235 [==============================] - 26s 110ms/step - loss: 0.0707 - val_loss: 0.0700\n",
      "Epoch 12/20\n",
      "235/235 [==============================] - 25s 108ms/step - loss: 0.0704 - val_loss: 0.0696\n",
      "Epoch 13/20\n",
      "235/235 [==============================] - 26s 111ms/step - loss: 0.0701 - val_loss: 0.0694\n",
      "Epoch 14/20\n",
      "235/235 [==============================] - 26s 111ms/step - loss: 0.0698 - val_loss: 0.0691\n",
      "Epoch 15/20\n",
      "235/235 [==============================] - 26s 111ms/step - loss: 0.0696 - val_loss: 0.0689\n",
      "Epoch 16/20\n",
      "235/235 [==============================] - 26s 111ms/step - loss: 0.0694 - val_loss: 0.0687\n",
      "Epoch 17/20\n",
      "235/235 [==============================] - 25s 108ms/step - loss: 0.0692 - val_loss: 0.0685\n",
      "Epoch 18/20\n",
      "235/235 [==============================] - 26s 110ms/step - loss: 0.0690 - val_loss: 0.0683\n",
      "Epoch 19/20\n",
      "235/235 [==============================] - 26s 111ms/step - loss: 0.0688 - val_loss: 0.0683\n",
      "Epoch 20/20\n",
      "235/235 [==============================] - 26s 109ms/step - loss: 0.0686 - val_loss: 0.0680\n"
     ]
    },
    {
     "data": {
      "text/plain": [
       "<keras.callbacks.History at 0x7faaa8536410>"
      ]
     },
     "execution_count": 9,
     "metadata": {},
     "output_type": "execute_result"
    }
   ],
   "source": [
    "# train the model\n",
    "model.fit(x_train, x_train, epochs=20, batch_size=256, validation_data=(x_test, x_test))"
   ]
  },
  {
   "cell_type": "markdown",
   "id": "115379c4",
   "metadata": {
    "papermill": {
     "duration": 0.403906,
     "end_time": "2022-07-09T12:55:48.606474",
     "exception": false,
     "start_time": "2022-07-09T12:55:48.202568",
     "status": "completed"
    },
    "tags": []
   },
   "source": [
    "### Visualize the Results"
   ]
  },
  {
   "cell_type": "code",
   "execution_count": 10,
   "id": "ce1cc183",
   "metadata": {
    "execution": {
     "iopub.execute_input": "2022-07-09T12:55:49.291090Z",
     "iopub.status.busy": "2022-07-09T12:55:49.290666Z",
     "iopub.status.idle": "2022-07-09T12:55:51.488563Z",
     "shell.execute_reply": "2022-07-09T12:55:51.487302Z"
    },
    "papermill": {
     "duration": 2.542227,
     "end_time": "2022-07-09T12:55:51.491518",
     "exception": false,
     "start_time": "2022-07-09T12:55:48.949291",
     "status": "completed"
    },
    "tags": []
   },
   "outputs": [],
   "source": [
    "# predict the results from model (get compressed images)\n",
    "pred = model.predict(x_test)"
   ]
  },
  {
   "cell_type": "code",
   "execution_count": 11,
   "id": "e880c562",
   "metadata": {
    "execution": {
     "iopub.execute_input": "2022-07-09T12:55:52.200117Z",
     "iopub.status.busy": "2022-07-09T12:55:52.199667Z",
     "iopub.status.idle": "2022-07-09T12:55:52.386222Z",
     "shell.execute_reply": "2022-07-09T12:55:52.384795Z"
    },
    "papermill": {
     "duration": 0.536517,
     "end_time": "2022-07-09T12:55:52.389365",
     "exception": false,
     "start_time": "2022-07-09T12:55:51.852848",
     "status": "completed"
    },
    "tags": []
   },
   "outputs": [
    {
     "data": {
      "image/png": "[encoded data removed]",
      "text/plain": [
       "<Figure size 432x288 with 1 Axes>"
      ]
     },
     "metadata": {
      "needs_background": "light"
     },
     "output_type": "display_data"
    }
   ],
   "source": [
    "# randomly select input image\n",
    "index = np.random.randint(len(x_test))\n",
    "# plot the image\n",
    "plt.imshow(x_test[index].reshape(28,28))\n",
    "plt.gray()"
   ]
  },
  {
   "cell_type": "code",
   "execution_count": 12,
   "id": "59ce8bef",
   "metadata": {
    "execution": {
     "iopub.execute_input": "2022-07-09T12:55:53.132456Z",
     "iopub.status.busy": "2022-07-09T12:55:53.131570Z",
     "iopub.status.idle": "2022-07-09T12:55:53.263644Z",
     "shell.execute_reply": "2022-07-09T12:55:53.262233Z"
    },
    "papermill": {
     "duration": 0.479082,
     "end_time": "2022-07-09T12:55:53.268126",
     "exception": false,
     "start_time": "2022-07-09T12:55:52.789044",
     "status": "completed"
    },
    "tags": []
   },
   "outputs": [
    {
     "data": {
      "image/png": "[encoded data removed]",
      "text/plain": [
       "<Figure size 432x288 with 1 Axes>"
      ]
     },
     "metadata": {
      "needs_background": "light"
     },
     "output_type": "display_data"
    }
   ],
   "source": [
    "# visualize compressed image\n",
    "plt.imshow(pred[index].reshape(28,28))\n",
    "plt.gray()"
   ]
  },
  {
   "cell_type": "code",
   "execution_count": 13,
   "id": "9bceaca7",
   "metadata": {
    "execution": {
     "iopub.execute_input": "2022-07-09T12:55:54.014484Z",
     "iopub.status.busy": "2022-07-09T12:55:54.013922Z",
     "iopub.status.idle": "2022-07-09T12:55:54.174136Z",
     "shell.execute_reply": "2022-07-09T12:55:54.172992Z"
    },
    "papermill": {
     "duration": 0.552297,
     "end_time": "2022-07-09T12:55:54.177546",
     "exception": false,
     "start_time": "2022-07-09T12:55:53.625249",
     "status": "completed"
    },
    "tags": []
   },
   "outputs": [
    {
     "data": {
      "image/png": "[encoded data removed]",
      "text/plain": [
       "<Figure size 720x288 with 2 Axes>"
      ]
     },
     "metadata": {
      "needs_background": "light"
     },
     "output_type": "display_data"
    }
   ],
   "source": [
    "index = np.random.randint(len(x_test))\n",
    "plt.figure(figsize=(10, 4))\n",
    "# display original image\n",
    "ax = plt.subplot(1, 2, 1)\n",
    "plt.imshow(x_test[index].reshape(28,28))\n",
    "plt.gray()\n",
    "ax.get_xaxis().set_visible(False)\n",
    "ax.get_yaxis().set_visible(False)\n",
    "# display compressed image\n",
    "ax = plt.subplot(1, 2, 2)\n",
    "plt.imshow(pred[index].reshape(28,28))\n",
    "plt.gray()\n",
    "ax.get_xaxis().set_visible(False)\n",
    "ax.get_yaxis().set_visible(False)\n",
    "plt.show()"
   ]
  },
  {
   "cell_type": "code",
   "execution_count": 14,
   "id": "171e935c",
   "metadata": {
    "execution": {
     "iopub.execute_input": "2022-07-09T12:55:54.875191Z",
     "iopub.status.busy": "2022-07-09T12:55:54.874800Z",
     "iopub.status.idle": "2022-07-09T12:55:55.047770Z",
     "shell.execute_reply": "2022-07-09T12:55:55.046420Z"
    },
    "papermill": {
     "duration": 0.519714,
     "end_time": "2022-07-09T12:55:55.050317",
     "exception": false,
     "start_time": "2022-07-09T12:55:54.530603",
     "status": "completed"
    },
    "tags": []
   },
   "outputs": [
    {
     "data": {
      "image/png": "[encoded data removed]",
      "text/plain": [
       "<Figure size 720x288 with 2 Axes>"
      ]
     },
     "metadata": {
      "needs_background": "light"
     },
     "output_type": "display_data"
    }
   ],
   "source": [
    "index = np.random.randint(len(x_test))\n",
    "plt.figure(figsize=(10, 4))\n",
    "# display original image\n",
    "ax = plt.subplot(1, 2, 1)\n",
    "plt.imshow(x_test[index].reshape(28,28))\n",
    "plt.gray()\n",
    "ax.get_xaxis().set_visible(False)\n",
    "ax.get_yaxis().set_visible(False)\n",
    "# display compressed image\n",
    "ax = plt.subplot(1, 2, 2)\n",
    "plt.imshow(pred[index].reshape(28,28))\n",
    "plt.gray()\n",
    "ax.get_xaxis().set_visible(False)\n",
    "ax.get_yaxis().set_visible(False)\n",
    "plt.show()"
   ]
  }
 ],
 "metadata": {
  "kernelspec": {
   "display_name": "Python 3",
   "language": "python",
   "name": "python3"
  },
  "language_info": {
   "codemirror_mode": {
    "name": "ipython",
    "version": 3
   },
   "file_extension": ".py",
   "mimetype": "text/x-python",
   "name": "python",
   "nbconvert_exporter": "python",
   "pygments_lexer": "ipython3",
   "version": "3.7.12"
  },
  "papermill": {
   "default_parameters": {},
   "duration": 597.815033,
   "end_time": "2022-07-09T12:55:58.428316",
   "environment_variables": {},
   "exception": null,
   "input_path": "__notebook__.ipynb",
   "output_path": "__notebook__.ipynb",
   "parameters": {},
   "start_time": "2022-07-09T12:46:00.613283",
   "version": "2.3.4"
  }
 },
 "nbformat": 4,
 "nbformat_minor": 5
}
